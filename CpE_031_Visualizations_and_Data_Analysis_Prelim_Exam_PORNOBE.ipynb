{
  "nbformat": 4,
  "nbformat_minor": 0,
  "metadata": {
    "colab": {
      "provenance": [],
      "toc_visible": true,
      "authorship_tag": "ABX9TyMsD0bMNQhKnZY7D6h5Ym51",
      "include_colab_link": true
    },
    "kernelspec": {
      "name": "python3",
      "display_name": "Python 3"
    },
    "language_info": {
      "name": "python"
    }
  },
  "cells": [
    {
      "cell_type": "markdown",
      "metadata": {
        "id": "view-in-github",
        "colab_type": "text"
      },
      "source": [
        "<a href=\"https://colab.research.google.com/github/Reuel-Christian-Pornobe/VDA-CPE031-CPE21S4/blob/main/CpE_031_Visualizations_and_Data_Analysis_Prelim_Exam_PORNOBE.ipynb\" target=\"_parent\"><img src=\"https://colab.research.google.com/assets/colab-badge.svg\" alt=\"Open In Colab\"/></a>"
      ]
    },
    {
      "cell_type": "code",
      "execution_count": 3,
      "metadata": {
        "colab": {
          "base_uri": "https://localhost:8080/"
        },
        "id": "jYTKMRCI9_qy",
        "outputId": "627e72fe-8c81-420e-a3d7-fcf2b6de8002"
      },
      "outputs": [
        {
          "output_type": "stream",
          "name": "stdout",
          "text": [
            "    X   Y   Z\n",
            "0  79  84  86\n",
            "1  85  94  97\n",
            "2  96  89  96\n",
            "3  80  93  72\n",
            "4  86  86  83\n"
          ]
        }
      ],
      "source": [
        "import pandas as pd\n",
        "\n",
        "dataFrame = {\"X\":[79, 85, 96, 80, 86], \"Y\": [84, 94, 89, 93, 86], \"Z\": [86, 97, 96, 72, 83]}\n",
        "\n",
        "df = pd.DataFrame(dataFrame)\n",
        "print(df)"
      ]
    }
  ]
}