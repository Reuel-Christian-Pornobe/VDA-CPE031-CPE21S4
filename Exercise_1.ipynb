{
  "nbformat": 4,
  "nbformat_minor": 0,
  "metadata": {
    "colab": {
      "provenance": [],
      "collapsed_sections": [
        "inM_o1i015zY",
        "zGxgBemA4b_A",
        "6m9YGdZp7Z0u",
        "AdkVKOT79Ve5",
        "V2RGInvL_sPq",
        "nClw1eXqBqQ6",
        "wkAwu_nNEKiW",
        "6dx1K483GtGc"
      ],
      "authorship_tag": "ABX9TyNW6vz5GN0p8JoNbS5Oi24I",
      "include_colab_link": true
    },
    "kernelspec": {
      "name": "python3",
      "display_name": "Python 3"
    },
    "language_info": {
      "name": "python"
    }
  },
  "cells": [
    {
      "cell_type": "markdown",
      "metadata": {
        "id": "view-in-github",
        "colab_type": "text"
      },
      "source": [
        "<a href=\"https://colab.research.google.com/github/Reuel-Christian-Pornobe/VDA-CPE031-CPE21S4/blob/main/Exercise_1.ipynb\" target=\"_parent\"><img src=\"https://colab.research.google.com/assets/colab-badge.svg\" alt=\"Open In Colab\"/></a>"
      ]
    },
    {
      "cell_type": "markdown",
      "source": [],
      "metadata": {
        "id": "hN5PVHVz4YRp"
      }
    },
    {
      "cell_type": "markdown",
      "source": [
        "### **1. Variables and Data Types**\n"
      ],
      "metadata": {
        "id": "inM_o1i015zY"
      }
    },
    {
      "cell_type": "markdown",
      "source": [
        "Numbers\n",
        "\n",
        "\n",
        "\n",
        "\n"
      ],
      "metadata": {
        "id": "JKS7LnML3soB"
      }
    },
    {
      "cell_type": "code",
      "source": [
        "varNum = 123\n",
        "pi = 3.14159\n"
      ],
      "metadata": {
        "id": "EB0R-L-B300S"
      },
      "execution_count": null,
      "outputs": []
    },
    {
      "cell_type": "markdown",
      "source": [
        "Strings\n"
      ],
      "metadata": {
        "id": "wlFI-_Mx34bz"
      }
    },
    {
      "cell_type": "code",
      "source": [
        "varString = 'Hello world!'\n",
        "varText = 'This is a String'"
      ],
      "metadata": {
        "id": "Mnf_fT5337h3"
      },
      "execution_count": null,
      "outputs": []
    },
    {
      "cell_type": "markdown",
      "source": [
        "Lists"
      ],
      "metadata": {
        "id": "VcDETYgS3-B3"
      }
    },
    {
      "cell_type": "code",
      "source": [
        "varList = ['abc', 123]"
      ],
      "metadata": {
        "id": "0Kq-Ztnl4CFQ"
      },
      "execution_count": null,
      "outputs": []
    },
    {
      "cell_type": "markdown",
      "source": [
        "Tuples"
      ],
      "metadata": {
        "id": "xpxBNPvq4EKo"
      }
    },
    {
      "cell_type": "code",
      "source": [
        "varTuple = ('abc', 123, 'HELLO')"
      ],
      "metadata": {
        "id": "CuJMLX0n4G4T"
      },
      "execution_count": null,
      "outputs": []
    },
    {
      "cell_type": "markdown",
      "source": [
        "Dictionaries\n"
      ],
      "metadata": {
        "id": "jXoFcX984JEY"
      }
    },
    {
      "cell_type": "code",
      "source": [
        "var = 3\n",
        "varDict = {'first':1, '2':'2nd', 3:var}\n"
      ],
      "metadata": {
        "id": "RNgM8er44Jc4"
      },
      "execution_count": null,
      "outputs": []
    },
    {
      "cell_type": "code",
      "source": [
        "varDict = {}\n",
        "varDict['first'] = 1\n",
        "varDict['2'] = '2nd'\n",
        "varDict[3] = var"
      ],
      "metadata": {
        "id": "9zFv9wnq4QJ4"
      },
      "execution_count": null,
      "outputs": []
    },
    {
      "cell_type": "markdown",
      "source": [
        "### **2. Arithmetic**"
      ],
      "metadata": {
        "id": "zGxgBemA4b_A"
      }
    },
    {
      "cell_type": "markdown",
      "source": [
        "Addition"
      ],
      "metadata": {
        "id": "WlQwMJWU4jfD"
      }
    },
    {
      "cell_type": "markdown",
      "source": [
        "\n",
        "\n",
        "```\n",
        "a = 5 + 3\n",
        "```\n",
        ">8\n"
      ],
      "metadata": {
        "id": "XC232HXg-yWR"
      }
    },
    {
      "cell_type": "markdown",
      "source": [
        "Subtraction"
      ],
      "metadata": {
        "id": "zNOYQg_04z8L"
      }
    },
    {
      "cell_type": "markdown",
      "source": [
        "\n",
        "\n",
        "```\n",
        "a = 5 - 3\n",
        "```\n",
        ">2\n"
      ],
      "metadata": {
        "id": "7kWSlKJ7-7CS"
      }
    },
    {
      "cell_type": "markdown",
      "source": [
        "Multiplication\n"
      ],
      "metadata": {
        "id": "E8GzvIS-4_LL"
      }
    },
    {
      "cell_type": "markdown",
      "source": [
        "\n",
        "\n",
        "```\n",
        "a = 5 * 3\n",
        "```\n",
        ">15\n"
      ],
      "metadata": {
        "id": "yvBt3yyc_BSc"
      }
    },
    {
      "cell_type": "markdown",
      "source": [
        "Exponent"
      ],
      "metadata": {
        "id": "O80uki0T5DS5"
      }
    },
    {
      "cell_type": "markdown",
      "source": [
        "\n",
        "\n",
        "```\n",
        "a = 5 ** 3\n",
        "```\n",
        ">125\n"
      ],
      "metadata": {
        "id": "NfzVjkYU_NRF"
      }
    },
    {
      "cell_type": "markdown",
      "source": [
        "Division"
      ],
      "metadata": {
        "id": "lfgJ4_eX5GlY"
      }
    },
    {
      "cell_type": "markdown",
      "source": [
        "\n",
        "\n",
        "```\n",
        "a = 5 / 3\n",
        "```\n",
        ">1.666666667\n"
      ],
      "metadata": {
        "id": "fThiLiy9_Vm8"
      }
    },
    {
      "cell_type": "markdown",
      "source": [
        "\n",
        "\n",
        "```\n",
        "a = 5 % 3\n",
        "```\n",
        ">2\n"
      ],
      "metadata": {
        "id": "nBqbtv5A_bZ6"
      }
    },
    {
      "cell_type": "markdown",
      "source": [
        "\n",
        "\n",
        "```\n",
        "a = 5 // 3\n",
        "```\n",
        ">1\n"
      ],
      "metadata": {
        "id": "NqO8P2-G_gUz"
      }
    },
    {
      "cell_type": "markdown",
      "source": [
        "Increment/Decrement"
      ],
      "metadata": {
        "id": "M4B0qhjt5-6E"
      }
    },
    {
      "cell_type": "code",
      "source": [
        "a = 5\n",
        "a += 1"
      ],
      "metadata": {
        "id": "iifTYv286BbR"
      },
      "execution_count": null,
      "outputs": []
    },
    {
      "cell_type": "markdown",
      "source": [
        "Decrement"
      ],
      "metadata": {
        "id": "ApYdB80e6Ew5"
      }
    },
    {
      "cell_type": "code",
      "source": [
        "a = 5\n",
        "a -= 1"
      ],
      "metadata": {
        "id": "cwN5RIjI6GKq"
      },
      "execution_count": null,
      "outputs": []
    },
    {
      "cell_type": "markdown",
      "source": [
        "String Concatenation"
      ],
      "metadata": {
        "id": "kMQBvkAO6KWw"
      }
    },
    {
      "cell_type": "markdown",
      "source": [
        "\n",
        "\n",
        "```\n",
        "a = 'Hello' + ' World!'\n",
        "```\n",
        "> Hello World!\n"
      ],
      "metadata": {
        "id": "zg38TVUz6pap"
      }
    },
    {
      "cell_type": "markdown",
      "source": [
        "Complex Expressions"
      ],
      "metadata": {
        "id": "FIb3nQpF63Ca"
      }
    },
    {
      "cell_type": "markdown",
      "source": [
        "\n",
        "\n",
        "```\n",
        "a = 3 + 5 + 6 * 2 / 4\n",
        "```\n",
        "5.0\n"
      ],
      "metadata": {
        "id": "BA9UuZc_697K"
      }
    },
    {
      "cell_type": "markdown",
      "source": [
        "### **3. Control Statement and Data Structures**"
      ],
      "metadata": {
        "id": "6m9YGdZp7Z0u"
      }
    },
    {
      "cell_type": "markdown",
      "source": [
        "Boolean Conditions"
      ],
      "metadata": {
        "id": "Y5bcDb_R75s9"
      }
    },
    {
      "cell_type": "code",
      "source": [
        "x = True\n",
        "\n",
        "if x:\n",
        "  print('var x is True')\n",
        "else:\n",
        "  print('var x is False')"
      ],
      "metadata": {
        "colab": {
          "base_uri": "https://localhost:8080/"
        },
        "id": "ecZwZ_-V-q7S",
        "outputId": "7c555129-ccb8-4242-99a4-ee407835b578"
      },
      "execution_count": 10,
      "outputs": [
        {
          "output_type": "stream",
          "name": "stdout",
          "text": [
            "var x is True\n"
          ]
        }
      ]
    },
    {
      "cell_type": "markdown",
      "source": [
        "String Conditions"
      ],
      "metadata": {
        "id": "gfEUR8r48AKo"
      }
    },
    {
      "cell_type": "code",
      "source": [
        "x = 'Hello World!'\n",
        "if x == 'Hello World!':\n",
        "  print('var x is Hello World!')\n",
        "else:\n",
        "  print('var x is Hello World!')"
      ],
      "metadata": {
        "colab": {
          "base_uri": "https://localhost:8080/"
        },
        "id": "KBDEuA6_-nqq",
        "outputId": "bee4873b-492d-45d1-87db-83d02d83258f"
      },
      "execution_count": 8,
      "outputs": [
        {
          "output_type": "stream",
          "name": "stdout",
          "text": [
            "var x is Hello World!\n"
          ]
        }
      ]
    },
    {
      "cell_type": "markdown",
      "source": [
        "Numerical Conditons"
      ],
      "metadata": {
        "id": "te2flCpJ8cyi"
      }
    },
    {
      "cell_type": "code",
      "source": [
        "x = 10\n",
        "if x == '10':\n",
        "  print('var x is a string')\n",
        "elif x == 10:\n",
        "  print('var x is an integer')\n",
        "else:\n",
        "  print('var x is none of the above')"
      ],
      "metadata": {
        "colab": {
          "base_uri": "https://localhost:8080/"
        },
        "id": "yu0tNwKw-jCy",
        "outputId": "fdb07bff-d099-429d-982b-27f857cf792b"
      },
      "execution_count": 7,
      "outputs": [
        {
          "output_type": "stream",
          "name": "stdout",
          "text": [
            "var x is an integer\n"
          ]
        }
      ]
    },
    {
      "cell_type": "markdown",
      "source": [
        "### **4. Loops**"
      ],
      "metadata": {
        "id": "AdkVKOT79Ve5"
      }
    },
    {
      "cell_type": "markdown",
      "source": [
        "For Loops"
      ],
      "metadata": {
        "id": "QDq9F9ZS9d4K"
      }
    },
    {
      "cell_type": "code",
      "source": [
        "for var in range(0, 5, 2):\n",
        "  print(var)"
      ],
      "metadata": {
        "colab": {
          "base_uri": "https://localhost:8080/"
        },
        "id": "H0q8jUBH96LC",
        "outputId": "06861974-2902-4af4-b1f3-45ea264af144"
      },
      "execution_count": 4,
      "outputs": [
        {
          "output_type": "stream",
          "name": "stdout",
          "text": [
            "0\n",
            "2\n",
            "4\n"
          ]
        }
      ]
    },
    {
      "cell_type": "markdown",
      "source": [
        "While Loops"
      ],
      "metadata": {
        "id": "Ocayeu9b9_UK"
      }
    },
    {
      "cell_type": "code",
      "source": [
        "var = 0\n",
        "while var < 5:\n",
        "    print(var)\n",
        "    var += 2"
      ],
      "metadata": {
        "colab": {
          "base_uri": "https://localhost:8080/"
        },
        "id": "hIwRSfNq-A-Z",
        "outputId": "b909f1a4-0ca1-450e-ee38-1122f8bffcfc"
      },
      "execution_count": 5,
      "outputs": [
        {
          "output_type": "stream",
          "name": "stdout",
          "text": [
            "0\n",
            "2\n",
            "4\n"
          ]
        }
      ]
    },
    {
      "cell_type": "markdown",
      "source": [
        "Nested Loops"
      ],
      "metadata": {
        "id": "gkivAE1Y-MDi"
      }
    },
    {
      "cell_type": "code",
      "source": [
        "x = 0\n",
        "while x < 5:\n",
        "    for y in range(0, x):\n",
        "      print(y, end='')\n",
        "    x += 1\n",
        "    print()"
      ],
      "metadata": {
        "colab": {
          "base_uri": "https://localhost:8080/"
        },
        "id": "qxX4oNv_-Qqb",
        "outputId": "5b5cd9e9-2cc9-4c96-bed2-c213d43f1986"
      },
      "execution_count": 6,
      "outputs": [
        {
          "output_type": "stream",
          "name": "stdout",
          "text": [
            "\n",
            "0\n",
            "01\n",
            "012\n",
            "0123\n"
          ]
        }
      ]
    },
    {
      "cell_type": "markdown",
      "source": [
        "*Note: The loop declaration ends with a colon(:) while its contents inside are indented"
      ],
      "metadata": {
        "id": "hiE6yPldGPQr"
      }
    },
    {
      "cell_type": "markdown",
      "source": [
        "### **5. Tuples**"
      ],
      "metadata": {
        "id": "GtgYqNpaHsfD"
      }
    },
    {
      "cell_type": "markdown",
      "source": [
        "### **6. Lists**"
      ],
      "metadata": {
        "id": "V2RGInvL_sPq"
      }
    },
    {
      "cell_type": "markdown",
      "source": [
        "Can contain a number of values comprised of different datatypes"
      ],
      "metadata": {
        "id": "0tiejn_Z_1by"
      }
    },
    {
      "cell_type": "code",
      "source": [
        "pi = 3.14159\n",
        "varList = [1, 2 , 'A', 'B', 'Hello!', pi]\n",
        "print(varList[0])"
      ],
      "metadata": {
        "colab": {
          "base_uri": "https://localhost:8080/"
        },
        "id": "45TmbYBm_0NC",
        "outputId": "cc43f371-4c31-42f9-beb1-62a4be7c77d3"
      },
      "execution_count": 40,
      "outputs": [
        {
          "output_type": "stream",
          "name": "stdout",
          "text": [
            "1\n"
          ]
        }
      ]
    },
    {
      "cell_type": "code",
      "source": [
        "print(varList[4])"
      ],
      "metadata": {
        "colab": {
          "base_uri": "https://localhost:8080/"
        },
        "id": "-C4AXVawANmy",
        "outputId": "96b30c15-cac7-464a-c463-56cf7248bdfa"
      },
      "execution_count": 41,
      "outputs": [
        {
          "output_type": "stream",
          "name": "stdout",
          "text": [
            "Hello!\n"
          ]
        }
      ]
    },
    {
      "cell_type": "code",
      "source": [
        "varList.append('World!')\n",
        "print(varList[6])"
      ],
      "metadata": {
        "colab": {
          "base_uri": "https://localhost:8080/"
        },
        "id": "gIi8hVF6AUPe",
        "outputId": "c58be52a-40b9-4e06-942c-8848d4f2d269"
      },
      "execution_count": 42,
      "outputs": [
        {
          "output_type": "stream",
          "name": "stdout",
          "text": [
            "World!\n"
          ]
        }
      ]
    },
    {
      "cell_type": "code",
      "source": [
        "len(varList)"
      ],
      "metadata": {
        "colab": {
          "base_uri": "https://localhost:8080/"
        },
        "id": "U_UvNBO2Acm9",
        "outputId": "99a7acca-34bc-42d0-9b87-74b06509e5d9"
      },
      "execution_count": 43,
      "outputs": [
        {
          "output_type": "execute_result",
          "data": {
            "text/plain": [
              "7"
            ]
          },
          "metadata": {},
          "execution_count": 43
        }
      ]
    },
    {
      "cell_type": "code",
      "source": [
        "print(varList[5])"
      ],
      "metadata": {
        "colab": {
          "base_uri": "https://localhost:8080/"
        },
        "id": "O79azb2oAfkz",
        "outputId": "378b65a4-cac3-42cc-bf56-4d7b75326dae"
      },
      "execution_count": 44,
      "outputs": [
        {
          "output_type": "stream",
          "name": "stdout",
          "text": [
            "3.14159\n"
          ]
        }
      ]
    },
    {
      "cell_type": "code",
      "source": [
        "varList.remove(pi)\n",
        "print(varList[5])"
      ],
      "metadata": {
        "colab": {
          "base_uri": "https://localhost:8080/"
        },
        "id": "OZAhFN_QD1gy",
        "outputId": "02c8b535-1f8d-4b58-be74-c295373cecb9"
      },
      "execution_count": 45,
      "outputs": [
        {
          "output_type": "stream",
          "name": "stdout",
          "text": [
            "World!\n"
          ]
        }
      ]
    },
    {
      "cell_type": "markdown",
      "source": [
        "### **7. Dictionaries**"
      ],
      "metadata": {
        "id": "nClw1eXqBqQ6"
      }
    },
    {
      "cell_type": "code",
      "source": [
        "var = 'Hello World!'\n",
        "varDict = {'first' : 123, 2:'abc', '3': var, 4:['lista', 'listb']}\n",
        "print(varDict['first'])"
      ],
      "metadata": {
        "colab": {
          "base_uri": "https://localhost:8080/"
        },
        "id": "y8nh6CtFBvGj",
        "outputId": "bed7f48d-bd57-4acd-cf4b-f4b73c0598f2"
      },
      "execution_count": 46,
      "outputs": [
        {
          "output_type": "stream",
          "name": "stdout",
          "text": [
            "123\n"
          ]
        }
      ]
    },
    {
      "cell_type": "code",
      "source": [
        "print(varDict[2])"
      ],
      "metadata": {
        "colab": {
          "base_uri": "https://localhost:8080/"
        },
        "id": "qHjWk3L_Cafb",
        "outputId": "049adbb0-db07-40d6-a224-660c69fd9bf3"
      },
      "execution_count": 47,
      "outputs": [
        {
          "output_type": "stream",
          "name": "stdout",
          "text": [
            "abc\n"
          ]
        }
      ]
    },
    {
      "cell_type": "code",
      "source": [
        "print(varDict['3'])"
      ],
      "metadata": {
        "colab": {
          "base_uri": "https://localhost:8080/"
        },
        "id": "UzIBPlTQCg0d",
        "outputId": "d285a4e5-1efa-4b2d-915f-5be2ad79bba7"
      },
      "execution_count": 48,
      "outputs": [
        {
          "output_type": "stream",
          "name": "stdout",
          "text": [
            "Hello World!\n"
          ]
        }
      ]
    },
    {
      "cell_type": "code",
      "source": [
        "print(varDict[4])"
      ],
      "metadata": {
        "colab": {
          "base_uri": "https://localhost:8080/"
        },
        "id": "RWAt7A0sCjPr",
        "outputId": "8546860d-4610-4383-cae3-e2706d06a19c"
      },
      "execution_count": 49,
      "outputs": [
        {
          "output_type": "stream",
          "name": "stdout",
          "text": [
            "['lista', 'listb']\n"
          ]
        }
      ]
    },
    {
      "cell_type": "code",
      "source": [
        "print(varDict[4][1])"
      ],
      "metadata": {
        "colab": {
          "base_uri": "https://localhost:8080/"
        },
        "id": "4n7pb_iiCprM",
        "outputId": "df7fc2d9-7a83-4491-f350-1edcd701e74a"
      },
      "execution_count": 50,
      "outputs": [
        {
          "output_type": "stream",
          "name": "stdout",
          "text": [
            "listb\n"
          ]
        }
      ]
    },
    {
      "cell_type": "code",
      "source": [
        "len(varDict)"
      ],
      "metadata": {
        "colab": {
          "base_uri": "https://localhost:8080/"
        },
        "id": "MJZnVFwzCtnd",
        "outputId": "bb8e4bec-b475-44ea-fa25-a501bfcf6a54"
      },
      "execution_count": 51,
      "outputs": [
        {
          "output_type": "execute_result",
          "data": {
            "text/plain": [
              "4"
            ]
          },
          "metadata": {},
          "execution_count": 51
        }
      ]
    },
    {
      "cell_type": "markdown",
      "source": [
        "### **8. Generators and Comprehension**"
      ],
      "metadata": {
        "id": "wkAwu_nNEKiW"
      }
    },
    {
      "cell_type": "code",
      "source": [
        "def gen_num_up_to(n):\n",
        "  num = 0\n",
        "  while num < n:\n",
        "    yield num\n",
        "    num += 1"
      ],
      "metadata": {
        "id": "LH1NJdnjEUUL"
      },
      "execution_count": 68,
      "outputs": []
    },
    {
      "cell_type": "code",
      "source": [
        "gen_num_up_to(5)"
      ],
      "metadata": {
        "colab": {
          "base_uri": "https://localhost:8080/"
        },
        "id": "ortbnXe2Eft7",
        "outputId": "7eab6edb-a051-43db-95eb-ad66de64322f"
      },
      "execution_count": 69,
      "outputs": [
        {
          "output_type": "execute_result",
          "data": {
            "text/plain": [
              "<generator object gen_num_up_to at 0x7aad9c859ee0>"
            ]
          },
          "metadata": {},
          "execution_count": 69
        }
      ]
    },
    {
      "cell_type": "markdown",
      "source": [
        "*Note This creates an object"
      ],
      "metadata": {
        "id": "WH9mpVQCEm0T"
      }
    },
    {
      "cell_type": "code",
      "source": [
        "varList = gen_num_up_to(5)\n",
        "print([var for  var in varList])"
      ],
      "metadata": {
        "colab": {
          "base_uri": "https://localhost:8080/"
        },
        "id": "kewT255YEsyb",
        "outputId": "2002a01b-942d-49e0-a040-03506d4bee97"
      },
      "execution_count": 70,
      "outputs": [
        {
          "output_type": "stream",
          "name": "stdout",
          "text": [
            "[0, 1, 2, 3, 4]\n"
          ]
        }
      ]
    },
    {
      "cell_type": "code",
      "source": [
        "def gen_num_up_to(n):\n",
        "  num = 0\n",
        "  while num < n:\n",
        "    yield num\n",
        "    num += 1\n",
        "\n",
        "varList = gen_num_up_to(5)\n",
        "print([var for  var in varList])"
      ],
      "metadata": {
        "colab": {
          "base_uri": "https://localhost:8080/"
        },
        "id": "jd8fELKIE8Xk",
        "outputId": "2dab9d0e-b3ac-45e9-86d4-32f225b5d42c"
      },
      "execution_count": 71,
      "outputs": [
        {
          "output_type": "stream",
          "name": "stdout",
          "text": [
            "[0, 1, 2, 3, 4]\n"
          ]
        }
      ]
    },
    {
      "cell_type": "code",
      "source": [
        "varList = range(0, 5, 2)\n",
        "print([var for  var in varList])"
      ],
      "metadata": {
        "colab": {
          "base_uri": "https://localhost:8080/"
        },
        "id": "S7g5bHbDFWQN",
        "outputId": "f2ba5ba5-767a-4200-ab6c-0e680cdbd701"
      },
      "execution_count": 72,
      "outputs": [
        {
          "output_type": "stream",
          "name": "stdout",
          "text": [
            "[0, 2, 4]\n"
          ]
        }
      ]
    },
    {
      "cell_type": "markdown",
      "source": [
        "*Note: Python's built in range function range([start], stop, [step])"
      ],
      "metadata": {
        "id": "gKrU7URNFkAL"
      }
    },
    {
      "cell_type": "markdown",
      "source": [
        "### **9. Slicing**"
      ],
      "metadata": {
        "id": "6dx1K483GtGc"
      }
    },
    {
      "cell_type": "code",
      "source": [
        "varList = [1,2,3,4,5,6,7,8,9,10]\n",
        "print(varList[:5])"
      ],
      "metadata": {
        "colab": {
          "base_uri": "https://localhost:8080/"
        },
        "id": "xX5MINzDGznM",
        "outputId": "7f8b506b-d9c9-46d3-bb88-8bab00b970e3"
      },
      "execution_count": 62,
      "outputs": [
        {
          "output_type": "stream",
          "name": "stdout",
          "text": [
            "[1, 2, 3, 4, 5]\n"
          ]
        }
      ]
    },
    {
      "cell_type": "code",
      "source": [
        "print(varList[5:])"
      ],
      "metadata": {
        "colab": {
          "base_uri": "https://localhost:8080/"
        },
        "id": "eLE0-l5QG9wE",
        "outputId": "a7d00138-355d-4eac-fe48-9439508b6f5d"
      },
      "execution_count": 63,
      "outputs": [
        {
          "output_type": "stream",
          "name": "stdout",
          "text": [
            "[6, 7, 8, 9, 10]\n"
          ]
        }
      ]
    },
    {
      "cell_type": "code",
      "source": [
        "print(varList[-2:])"
      ],
      "metadata": {
        "colab": {
          "base_uri": "https://localhost:8080/"
        },
        "id": "fowOipIaHC_c",
        "outputId": "39b1f169-d952-4884-81cd-6df8134628ad"
      },
      "execution_count": 64,
      "outputs": [
        {
          "output_type": "stream",
          "name": "stdout",
          "text": [
            "[9, 10]\n"
          ]
        }
      ]
    },
    {
      "cell_type": "code",
      "source": [
        "print(varList[2:-2])"
      ],
      "metadata": {
        "colab": {
          "base_uri": "https://localhost:8080/"
        },
        "id": "e5t3hMGWHH8A",
        "outputId": "aa3455f7-dd84-4459-84a8-1ebd18e01190"
      },
      "execution_count": 65,
      "outputs": [
        {
          "output_type": "stream",
          "name": "stdout",
          "text": [
            "[3, 4, 5, 6, 7, 8]\n"
          ]
        }
      ]
    },
    {
      "cell_type": "code",
      "source": [
        "print(varList[2:8:2])"
      ],
      "metadata": {
        "colab": {
          "base_uri": "https://localhost:8080/"
        },
        "id": "wXEmi7qmHLs8",
        "outputId": "51ed8e0b-5f2e-4be3-cdb0-cd1e0119ab5f"
      },
      "execution_count": 66,
      "outputs": [
        {
          "output_type": "stream",
          "name": "stdout",
          "text": [
            "[3, 5, 7]\n"
          ]
        }
      ]
    },
    {
      "cell_type": "markdown",
      "source": [
        "*Note: list(start:)\n",
        "        list(:end)\n",
        "        list(start:end)\n",
        "        list(start:end:step)"
      ],
      "metadata": {
        "id": "4az0yuhFHWyj"
      }
    },
    {
      "cell_type": "markdown",
      "source": [
        "### **10. Functions**"
      ],
      "metadata": {
        "id": "Uh5IJcCwIG58"
      }
    },
    {
      "cell_type": "markdown",
      "source": [
        "Python functions use the following notation:\n",
        "\n",
        "def function name:\n",
        "\n",
        "  commands"
      ],
      "metadata": {
        "id": "zohvEZPdIjrF"
      }
    },
    {
      "cell_type": "code",
      "source": [
        "def remainder(n, m):\n",
        "  while True:\n",
        "    if n - m < 0:\n",
        "      return n\n",
        "    else:\n",
        "      n = n - m\n",
        "\n",
        "remainder(10,4)"
      ],
      "metadata": {
        "colab": {
          "base_uri": "https://localhost:8080/"
        },
        "id": "C2c1468WIMc6",
        "outputId": "c746e04a-4cf3-401e-da0f-c71fa744eaac"
      },
      "execution_count": 74,
      "outputs": [
        {
          "output_type": "execute_result",
          "data": {
            "text/plain": [
              "2"
            ]
          },
          "metadata": {},
          "execution_count": 74
        }
      ]
    },
    {
      "cell_type": "markdown",
      "source": [
        "*Note: Functions are defined with the keyword def before the function name. SImilar to loops, the function definition ends with a colon(:) while its contents inside are indented."
      ],
      "metadata": {
        "id": "fHwobtyjJQy8"
      }
    }
  ]
}