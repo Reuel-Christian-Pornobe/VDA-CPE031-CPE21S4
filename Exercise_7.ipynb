{
  "nbformat": 4,
  "nbformat_minor": 0,
  "metadata": {
    "colab": {
      "provenance": [],
      "authorship_tag": "ABX9TyNNG6CAui0JB7y6zlfkcfN+",
      "include_colab_link": true
    },
    "kernelspec": {
      "name": "python3",
      "display_name": "Python 3"
    },
    "language_info": {
      "name": "python"
    }
  },
  "cells": [
    {
      "cell_type": "markdown",
      "metadata": {
        "id": "view-in-github",
        "colab_type": "text"
      },
      "source": [
        "<a href=\"https://colab.research.google.com/github/Reuel-Christian-Pornobe/VDA-CPE031-CPE21S4/blob/main/Exercise_7.ipynb\" target=\"_parent\"><img src=\"https://colab.research.google.com/assets/colab-badge.svg\" alt=\"Open In Colab\"/></a>"
      ]
    },
    {
      "cell_type": "markdown",
      "source": [
        "### **CREATING DATA FRAME**"
      ],
      "metadata": {
        "id": "g-mxSMkDL2np"
      }
    },
    {
      "cell_type": "code",
      "source": [
        "import pandas as pd\n",
        "\n",
        "data = {'apples': [3, 2, 0, 1], 'oranges': [0, 3, 7, 2]}\n",
        "purchases = pd.DataFrame(data)\n",
        "print(purchases)\n",
        "\n",
        "print(\"\")\n",
        "\n",
        "purchases2 = pd.DataFrame(data, index=['June', 'Robert', 'Lily', 'David'])\n",
        "print(purchases2)\n",
        "\n",
        "print(\"\")\n",
        "\n",
        "purchases2.loc['June']"
      ],
      "metadata": {
        "colab": {
          "base_uri": "https://localhost:8080/",
          "height": 361
        },
        "id": "s92dYdN6LdZa",
        "outputId": "eb4725d0-21f6-45ae-9b5b-8514cda1baa2"
      },
      "execution_count": null,
      "outputs": [
        {
          "output_type": "stream",
          "name": "stdout",
          "text": [
            "   apples  oranges\n",
            "0       3        0\n",
            "1       2        3\n",
            "2       0        7\n",
            "3       1        2\n",
            "\n",
            "        apples  oranges\n",
            "June         3        0\n",
            "Robert       2        3\n",
            "Lily         0        7\n",
            "David        1        2\n",
            "\n"
          ]
        },
        {
          "output_type": "execute_result",
          "data": {
            "text/plain": [
              "apples     3\n",
              "oranges    0\n",
              "Name: June, dtype: int64"
            ],
            "text/html": [
              "<div>\n",
              "<style scoped>\n",
              "    .dataframe tbody tr th:only-of-type {\n",
              "        vertical-align: middle;\n",
              "    }\n",
              "\n",
              "    .dataframe tbody tr th {\n",
              "        vertical-align: top;\n",
              "    }\n",
              "\n",
              "    .dataframe thead th {\n",
              "        text-align: right;\n",
              "    }\n",
              "</style>\n",
              "<table border=\"1\" class=\"dataframe\">\n",
              "  <thead>\n",
              "    <tr style=\"text-align: right;\">\n",
              "      <th></th>\n",
              "      <th>June</th>\n",
              "    </tr>\n",
              "  </thead>\n",
              "  <tbody>\n",
              "    <tr>\n",
              "      <th>apples</th>\n",
              "      <td>3</td>\n",
              "    </tr>\n",
              "    <tr>\n",
              "      <th>oranges</th>\n",
              "      <td>0</td>\n",
              "    </tr>\n",
              "  </tbody>\n",
              "</table>\n",
              "</div><br><label><b>dtype:</b> int64</label>"
            ]
          },
          "metadata": {},
          "execution_count": 10
        }
      ]
    },
    {
      "cell_type": "markdown",
      "source": [
        "### **Importing DataFrame to csv or excel**"
      ],
      "metadata": {
        "id": "Q1pM4GJtOT3A"
      }
    },
    {
      "cell_type": "code",
      "source": [
        "purchases2.to_csv('fruits.csv')\n",
        "purchases2.to_excel('fruits.xlsx')"
      ],
      "metadata": {
        "id": "CRlczEFsOTQJ"
      },
      "execution_count": null,
      "outputs": []
    },
    {
      "cell_type": "markdown",
      "source": [
        "### **Reading Data from csv file**"
      ],
      "metadata": {
        "id": "Cbk_wnCLOghA"
      }
    },
    {
      "cell_type": "code",
      "source": [
        "from os import read\n",
        "from google.colab import files\n",
        "\n",
        "uploaded = files.upload()\n",
        "read_fruits = pd.read_csv('fruits.csv')\n",
        "print(read_fruits)"
      ],
      "metadata": {
        "colab": {
          "base_uri": "https://localhost:8080/",
          "height": 164
        },
        "id": "a1d_VLNvOnzP",
        "outputId": "d144e771-179b-4945-8eb4-19a1a42a3938"
      },
      "execution_count": null,
      "outputs": [
        {
          "output_type": "display_data",
          "data": {
            "text/plain": [
              "<IPython.core.display.HTML object>"
            ],
            "text/html": [
              "\n",
              "     <input type=\"file\" id=\"files-7a4ae1f2-187c-49e4-883f-0424c364b109\" name=\"files[]\" multiple disabled\n",
              "        style=\"border:none\" />\n",
              "     <output id=\"result-7a4ae1f2-187c-49e4-883f-0424c364b109\">\n",
              "      Upload widget is only available when the cell has been executed in the\n",
              "      current browser session. Please rerun this cell to enable.\n",
              "      </output>\n",
              "      <script>// Copyright 2017 Google LLC\n",
              "//\n",
              "// Licensed under the Apache License, Version 2.0 (the \"License\");\n",
              "// you may not use this file except in compliance with the License.\n",
              "// You may obtain a copy of the License at\n",
              "//\n",
              "//      http://www.apache.org/licenses/LICENSE-2.0\n",
              "//\n",
              "// Unless required by applicable law or agreed to in writing, software\n",
              "// distributed under the License is distributed on an \"AS IS\" BASIS,\n",
              "// WITHOUT WARRANTIES OR CONDITIONS OF ANY KIND, either express or implied.\n",
              "// See the License for the specific language governing permissions and\n",
              "// limitations under the License.\n",
              "\n",
              "/**\n",
              " * @fileoverview Helpers for google.colab Python module.\n",
              " */\n",
              "(function(scope) {\n",
              "function span(text, styleAttributes = {}) {\n",
              "  const element = document.createElement('span');\n",
              "  element.textContent = text;\n",
              "  for (const key of Object.keys(styleAttributes)) {\n",
              "    element.style[key] = styleAttributes[key];\n",
              "  }\n",
              "  return element;\n",
              "}\n",
              "\n",
              "// Max number of bytes which will be uploaded at a time.\n",
              "const MAX_PAYLOAD_SIZE = 100 * 1024;\n",
              "\n",
              "function _uploadFiles(inputId, outputId) {\n",
              "  const steps = uploadFilesStep(inputId, outputId);\n",
              "  const outputElement = document.getElementById(outputId);\n",
              "  // Cache steps on the outputElement to make it available for the next call\n",
              "  // to uploadFilesContinue from Python.\n",
              "  outputElement.steps = steps;\n",
              "\n",
              "  return _uploadFilesContinue(outputId);\n",
              "}\n",
              "\n",
              "// This is roughly an async generator (not supported in the browser yet),\n",
              "// where there are multiple asynchronous steps and the Python side is going\n",
              "// to poll for completion of each step.\n",
              "// This uses a Promise to block the python side on completion of each step,\n",
              "// then passes the result of the previous step as the input to the next step.\n",
              "function _uploadFilesContinue(outputId) {\n",
              "  const outputElement = document.getElementById(outputId);\n",
              "  const steps = outputElement.steps;\n",
              "\n",
              "  const next = steps.next(outputElement.lastPromiseValue);\n",
              "  return Promise.resolve(next.value.promise).then((value) => {\n",
              "    // Cache the last promise value to make it available to the next\n",
              "    // step of the generator.\n",
              "    outputElement.lastPromiseValue = value;\n",
              "    return next.value.response;\n",
              "  });\n",
              "}\n",
              "\n",
              "/**\n",
              " * Generator function which is called between each async step of the upload\n",
              " * process.\n",
              " * @param {string} inputId Element ID of the input file picker element.\n",
              " * @param {string} outputId Element ID of the output display.\n",
              " * @return {!Iterable<!Object>} Iterable of next steps.\n",
              " */\n",
              "function* uploadFilesStep(inputId, outputId) {\n",
              "  const inputElement = document.getElementById(inputId);\n",
              "  inputElement.disabled = false;\n",
              "\n",
              "  const outputElement = document.getElementById(outputId);\n",
              "  outputElement.innerHTML = '';\n",
              "\n",
              "  const pickedPromise = new Promise((resolve) => {\n",
              "    inputElement.addEventListener('change', (e) => {\n",
              "      resolve(e.target.files);\n",
              "    });\n",
              "  });\n",
              "\n",
              "  const cancel = document.createElement('button');\n",
              "  inputElement.parentElement.appendChild(cancel);\n",
              "  cancel.textContent = 'Cancel upload';\n",
              "  const cancelPromise = new Promise((resolve) => {\n",
              "    cancel.onclick = () => {\n",
              "      resolve(null);\n",
              "    };\n",
              "  });\n",
              "\n",
              "  // Wait for the user to pick the files.\n",
              "  const files = yield {\n",
              "    promise: Promise.race([pickedPromise, cancelPromise]),\n",
              "    response: {\n",
              "      action: 'starting',\n",
              "    }\n",
              "  };\n",
              "\n",
              "  cancel.remove();\n",
              "\n",
              "  // Disable the input element since further picks are not allowed.\n",
              "  inputElement.disabled = true;\n",
              "\n",
              "  if (!files) {\n",
              "    return {\n",
              "      response: {\n",
              "        action: 'complete',\n",
              "      }\n",
              "    };\n",
              "  }\n",
              "\n",
              "  for (const file of files) {\n",
              "    const li = document.createElement('li');\n",
              "    li.append(span(file.name, {fontWeight: 'bold'}));\n",
              "    li.append(span(\n",
              "        `(${file.type || 'n/a'}) - ${file.size} bytes, ` +\n",
              "        `last modified: ${\n",
              "            file.lastModifiedDate ? file.lastModifiedDate.toLocaleDateString() :\n",
              "                                    'n/a'} - `));\n",
              "    const percent = span('0% done');\n",
              "    li.appendChild(percent);\n",
              "\n",
              "    outputElement.appendChild(li);\n",
              "\n",
              "    const fileDataPromise = new Promise((resolve) => {\n",
              "      const reader = new FileReader();\n",
              "      reader.onload = (e) => {\n",
              "        resolve(e.target.result);\n",
              "      };\n",
              "      reader.readAsArrayBuffer(file);\n",
              "    });\n",
              "    // Wait for the data to be ready.\n",
              "    let fileData = yield {\n",
              "      promise: fileDataPromise,\n",
              "      response: {\n",
              "        action: 'continue',\n",
              "      }\n",
              "    };\n",
              "\n",
              "    // Use a chunked sending to avoid message size limits. See b/62115660.\n",
              "    let position = 0;\n",
              "    do {\n",
              "      const length = Math.min(fileData.byteLength - position, MAX_PAYLOAD_SIZE);\n",
              "      const chunk = new Uint8Array(fileData, position, length);\n",
              "      position += length;\n",
              "\n",
              "      const base64 = btoa(String.fromCharCode.apply(null, chunk));\n",
              "      yield {\n",
              "        response: {\n",
              "          action: 'append',\n",
              "          file: file.name,\n",
              "          data: base64,\n",
              "        },\n",
              "      };\n",
              "\n",
              "      let percentDone = fileData.byteLength === 0 ?\n",
              "          100 :\n",
              "          Math.round((position / fileData.byteLength) * 100);\n",
              "      percent.textContent = `${percentDone}% done`;\n",
              "\n",
              "    } while (position < fileData.byteLength);\n",
              "  }\n",
              "\n",
              "  // All done.\n",
              "  yield {\n",
              "    response: {\n",
              "      action: 'complete',\n",
              "    }\n",
              "  };\n",
              "}\n",
              "\n",
              "scope.google = scope.google || {};\n",
              "scope.google.colab = scope.google.colab || {};\n",
              "scope.google.colab._files = {\n",
              "  _uploadFiles,\n",
              "  _uploadFilesContinue,\n",
              "};\n",
              "})(self);\n",
              "</script> "
            ]
          },
          "metadata": {}
        },
        {
          "output_type": "stream",
          "name": "stdout",
          "text": [
            "Saving fruits.csv to fruits (2).csv\n",
            "  Unnamed: 0  apples  oranges\n",
            "0       June       3        0\n",
            "1     Robert       2        3\n",
            "2       Lily       0        7\n",
            "3      David       1        2\n"
          ]
        }
      ]
    },
    {
      "cell_type": "markdown",
      "source": [
        "### **Reading Data from Excel file**\n",
        "\n"
      ],
      "metadata": {
        "id": "iIr6ShWUPLOY"
      }
    },
    {
      "cell_type": "code",
      "source": [
        "from os import read\n",
        "from google.colab import files\n",
        "\n",
        "uploaded = files.upload()\n",
        "read_fruits = pd.read_csv('fruits.csv')\n",
        "print(read_fruits)"
      ],
      "metadata": {
        "colab": {
          "base_uri": "https://localhost:8080/",
          "height": 164
        },
        "id": "aqUEZltGPUan",
        "outputId": "ac909e8b-a3cb-4e36-d15f-c006ae77cd84"
      },
      "execution_count": null,
      "outputs": [
        {
          "output_type": "display_data",
          "data": {
            "text/plain": [
              "<IPython.core.display.HTML object>"
            ],
            "text/html": [
              "\n",
              "     <input type=\"file\" id=\"files-3df45f5d-2971-415d-825c-7e5e82a9155d\" name=\"files[]\" multiple disabled\n",
              "        style=\"border:none\" />\n",
              "     <output id=\"result-3df45f5d-2971-415d-825c-7e5e82a9155d\">\n",
              "      Upload widget is only available when the cell has been executed in the\n",
              "      current browser session. Please rerun this cell to enable.\n",
              "      </output>\n",
              "      <script>// Copyright 2017 Google LLC\n",
              "//\n",
              "// Licensed under the Apache License, Version 2.0 (the \"License\");\n",
              "// you may not use this file except in compliance with the License.\n",
              "// You may obtain a copy of the License at\n",
              "//\n",
              "//      http://www.apache.org/licenses/LICENSE-2.0\n",
              "//\n",
              "// Unless required by applicable law or agreed to in writing, software\n",
              "// distributed under the License is distributed on an \"AS IS\" BASIS,\n",
              "// WITHOUT WARRANTIES OR CONDITIONS OF ANY KIND, either express or implied.\n",
              "// See the License for the specific language governing permissions and\n",
              "// limitations under the License.\n",
              "\n",
              "/**\n",
              " * @fileoverview Helpers for google.colab Python module.\n",
              " */\n",
              "(function(scope) {\n",
              "function span(text, styleAttributes = {}) {\n",
              "  const element = document.createElement('span');\n",
              "  element.textContent = text;\n",
              "  for (const key of Object.keys(styleAttributes)) {\n",
              "    element.style[key] = styleAttributes[key];\n",
              "  }\n",
              "  return element;\n",
              "}\n",
              "\n",
              "// Max number of bytes which will be uploaded at a time.\n",
              "const MAX_PAYLOAD_SIZE = 100 * 1024;\n",
              "\n",
              "function _uploadFiles(inputId, outputId) {\n",
              "  const steps = uploadFilesStep(inputId, outputId);\n",
              "  const outputElement = document.getElementById(outputId);\n",
              "  // Cache steps on the outputElement to make it available for the next call\n",
              "  // to uploadFilesContinue from Python.\n",
              "  outputElement.steps = steps;\n",
              "\n",
              "  return _uploadFilesContinue(outputId);\n",
              "}\n",
              "\n",
              "// This is roughly an async generator (not supported in the browser yet),\n",
              "// where there are multiple asynchronous steps and the Python side is going\n",
              "// to poll for completion of each step.\n",
              "// This uses a Promise to block the python side on completion of each step,\n",
              "// then passes the result of the previous step as the input to the next step.\n",
              "function _uploadFilesContinue(outputId) {\n",
              "  const outputElement = document.getElementById(outputId);\n",
              "  const steps = outputElement.steps;\n",
              "\n",
              "  const next = steps.next(outputElement.lastPromiseValue);\n",
              "  return Promise.resolve(next.value.promise).then((value) => {\n",
              "    // Cache the last promise value to make it available to the next\n",
              "    // step of the generator.\n",
              "    outputElement.lastPromiseValue = value;\n",
              "    return next.value.response;\n",
              "  });\n",
              "}\n",
              "\n",
              "/**\n",
              " * Generator function which is called between each async step of the upload\n",
              " * process.\n",
              " * @param {string} inputId Element ID of the input file picker element.\n",
              " * @param {string} outputId Element ID of the output display.\n",
              " * @return {!Iterable<!Object>} Iterable of next steps.\n",
              " */\n",
              "function* uploadFilesStep(inputId, outputId) {\n",
              "  const inputElement = document.getElementById(inputId);\n",
              "  inputElement.disabled = false;\n",
              "\n",
              "  const outputElement = document.getElementById(outputId);\n",
              "  outputElement.innerHTML = '';\n",
              "\n",
              "  const pickedPromise = new Promise((resolve) => {\n",
              "    inputElement.addEventListener('change', (e) => {\n",
              "      resolve(e.target.files);\n",
              "    });\n",
              "  });\n",
              "\n",
              "  const cancel = document.createElement('button');\n",
              "  inputElement.parentElement.appendChild(cancel);\n",
              "  cancel.textContent = 'Cancel upload';\n",
              "  const cancelPromise = new Promise((resolve) => {\n",
              "    cancel.onclick = () => {\n",
              "      resolve(null);\n",
              "    };\n",
              "  });\n",
              "\n",
              "  // Wait for the user to pick the files.\n",
              "  const files = yield {\n",
              "    promise: Promise.race([pickedPromise, cancelPromise]),\n",
              "    response: {\n",
              "      action: 'starting',\n",
              "    }\n",
              "  };\n",
              "\n",
              "  cancel.remove();\n",
              "\n",
              "  // Disable the input element since further picks are not allowed.\n",
              "  inputElement.disabled = true;\n",
              "\n",
              "  if (!files) {\n",
              "    return {\n",
              "      response: {\n",
              "        action: 'complete',\n",
              "      }\n",
              "    };\n",
              "  }\n",
              "\n",
              "  for (const file of files) {\n",
              "    const li = document.createElement('li');\n",
              "    li.append(span(file.name, {fontWeight: 'bold'}));\n",
              "    li.append(span(\n",
              "        `(${file.type || 'n/a'}) - ${file.size} bytes, ` +\n",
              "        `last modified: ${\n",
              "            file.lastModifiedDate ? file.lastModifiedDate.toLocaleDateString() :\n",
              "                                    'n/a'} - `));\n",
              "    const percent = span('0% done');\n",
              "    li.appendChild(percent);\n",
              "\n",
              "    outputElement.appendChild(li);\n",
              "\n",
              "    const fileDataPromise = new Promise((resolve) => {\n",
              "      const reader = new FileReader();\n",
              "      reader.onload = (e) => {\n",
              "        resolve(e.target.result);\n",
              "      };\n",
              "      reader.readAsArrayBuffer(file);\n",
              "    });\n",
              "    // Wait for the data to be ready.\n",
              "    let fileData = yield {\n",
              "      promise: fileDataPromise,\n",
              "      response: {\n",
              "        action: 'continue',\n",
              "      }\n",
              "    };\n",
              "\n",
              "    // Use a chunked sending to avoid message size limits. See b/62115660.\n",
              "    let position = 0;\n",
              "    do {\n",
              "      const length = Math.min(fileData.byteLength - position, MAX_PAYLOAD_SIZE);\n",
              "      const chunk = new Uint8Array(fileData, position, length);\n",
              "      position += length;\n",
              "\n",
              "      const base64 = btoa(String.fromCharCode.apply(null, chunk));\n",
              "      yield {\n",
              "        response: {\n",
              "          action: 'append',\n",
              "          file: file.name,\n",
              "          data: base64,\n",
              "        },\n",
              "      };\n",
              "\n",
              "      let percentDone = fileData.byteLength === 0 ?\n",
              "          100 :\n",
              "          Math.round((position / fileData.byteLength) * 100);\n",
              "      percent.textContent = `${percentDone}% done`;\n",
              "\n",
              "    } while (position < fileData.byteLength);\n",
              "  }\n",
              "\n",
              "  // All done.\n",
              "  yield {\n",
              "    response: {\n",
              "      action: 'complete',\n",
              "    }\n",
              "  };\n",
              "}\n",
              "\n",
              "scope.google = scope.google || {};\n",
              "scope.google.colab = scope.google.colab || {};\n",
              "scope.google.colab._files = {\n",
              "  _uploadFiles,\n",
              "  _uploadFilesContinue,\n",
              "};\n",
              "})(self);\n",
              "</script> "
            ]
          },
          "metadata": {}
        },
        {
          "output_type": "stream",
          "name": "stdout",
          "text": [
            "Saving fruits.xlsx to fruits (1).xlsx\n",
            "  Unnamed: 0  apples  oranges\n",
            "0       June       3        0\n",
            "1     Robert       2        3\n",
            "2       Lily       0        7\n",
            "3      David       1        2\n"
          ]
        }
      ]
    },
    {
      "cell_type": "markdown",
      "source": [
        "-------------------------------------------------------------------------------"
      ],
      "metadata": {
        "id": "LysYeiyhUt82"
      }
    },
    {
      "cell_type": "markdown",
      "source": [
        "-------------------------------------------------------------------------------"
      ],
      "metadata": {
        "id": "WkCfUHO0U1gS"
      }
    },
    {
      "cell_type": "markdown",
      "source": [
        "### **LABORATORY MANUAL ACTIVITY**"
      ],
      "metadata": {
        "id": "ww-n7WTgSVJQ"
      }
    },
    {
      "cell_type": "markdown",
      "source": [
        "## **1. Loading your dataset**"
      ],
      "metadata": {
        "id": "cSYN779qUl05"
      }
    },
    {
      "cell_type": "code",
      "source": [
        "from os import read\n",
        "from google.colab import files\n",
        "\n",
        "uploaded = files.upload()\n",
        "read_dt = pd.read_csv('crimesOnWomenData.csv')\n",
        "print(read_dt)"
      ],
      "metadata": {
        "colab": {
          "base_uri": "https://localhost:8080/",
          "height": 794
        },
        "id": "5tmEPwlISc0Q",
        "outputId": "9b063d8f-58cb-4586-ed2c-87280962a076"
      },
      "execution_count": 20,
      "outputs": [
        {
          "output_type": "display_data",
          "data": {
            "text/plain": [
              "<IPython.core.display.HTML object>"
            ],
            "text/html": [
              "\n",
              "     <input type=\"file\" id=\"files-886865e4-0e9c-42a6-8a7e-c39931655d91\" name=\"files[]\" multiple disabled\n",
              "        style=\"border:none\" />\n",
              "     <output id=\"result-886865e4-0e9c-42a6-8a7e-c39931655d91\">\n",
              "      Upload widget is only available when the cell has been executed in the\n",
              "      current browser session. Please rerun this cell to enable.\n",
              "      </output>\n",
              "      <script>// Copyright 2017 Google LLC\n",
              "//\n",
              "// Licensed under the Apache License, Version 2.0 (the \"License\");\n",
              "// you may not use this file except in compliance with the License.\n",
              "// You may obtain a copy of the License at\n",
              "//\n",
              "//      http://www.apache.org/licenses/LICENSE-2.0\n",
              "//\n",
              "// Unless required by applicable law or agreed to in writing, software\n",
              "// distributed under the License is distributed on an \"AS IS\" BASIS,\n",
              "// WITHOUT WARRANTIES OR CONDITIONS OF ANY KIND, either express or implied.\n",
              "// See the License for the specific language governing permissions and\n",
              "// limitations under the License.\n",
              "\n",
              "/**\n",
              " * @fileoverview Helpers for google.colab Python module.\n",
              " */\n",
              "(function(scope) {\n",
              "function span(text, styleAttributes = {}) {\n",
              "  const element = document.createElement('span');\n",
              "  element.textContent = text;\n",
              "  for (const key of Object.keys(styleAttributes)) {\n",
              "    element.style[key] = styleAttributes[key];\n",
              "  }\n",
              "  return element;\n",
              "}\n",
              "\n",
              "// Max number of bytes which will be uploaded at a time.\n",
              "const MAX_PAYLOAD_SIZE = 100 * 1024;\n",
              "\n",
              "function _uploadFiles(inputId, outputId) {\n",
              "  const steps = uploadFilesStep(inputId, outputId);\n",
              "  const outputElement = document.getElementById(outputId);\n",
              "  // Cache steps on the outputElement to make it available for the next call\n",
              "  // to uploadFilesContinue from Python.\n",
              "  outputElement.steps = steps;\n",
              "\n",
              "  return _uploadFilesContinue(outputId);\n",
              "}\n",
              "\n",
              "// This is roughly an async generator (not supported in the browser yet),\n",
              "// where there are multiple asynchronous steps and the Python side is going\n",
              "// to poll for completion of each step.\n",
              "// This uses a Promise to block the python side on completion of each step,\n",
              "// then passes the result of the previous step as the input to the next step.\n",
              "function _uploadFilesContinue(outputId) {\n",
              "  const outputElement = document.getElementById(outputId);\n",
              "  const steps = outputElement.steps;\n",
              "\n",
              "  const next = steps.next(outputElement.lastPromiseValue);\n",
              "  return Promise.resolve(next.value.promise).then((value) => {\n",
              "    // Cache the last promise value to make it available to the next\n",
              "    // step of the generator.\n",
              "    outputElement.lastPromiseValue = value;\n",
              "    return next.value.response;\n",
              "  });\n",
              "}\n",
              "\n",
              "/**\n",
              " * Generator function which is called between each async step of the upload\n",
              " * process.\n",
              " * @param {string} inputId Element ID of the input file picker element.\n",
              " * @param {string} outputId Element ID of the output display.\n",
              " * @return {!Iterable<!Object>} Iterable of next steps.\n",
              " */\n",
              "function* uploadFilesStep(inputId, outputId) {\n",
              "  const inputElement = document.getElementById(inputId);\n",
              "  inputElement.disabled = false;\n",
              "\n",
              "  const outputElement = document.getElementById(outputId);\n",
              "  outputElement.innerHTML = '';\n",
              "\n",
              "  const pickedPromise = new Promise((resolve) => {\n",
              "    inputElement.addEventListener('change', (e) => {\n",
              "      resolve(e.target.files);\n",
              "    });\n",
              "  });\n",
              "\n",
              "  const cancel = document.createElement('button');\n",
              "  inputElement.parentElement.appendChild(cancel);\n",
              "  cancel.textContent = 'Cancel upload';\n",
              "  const cancelPromise = new Promise((resolve) => {\n",
              "    cancel.onclick = () => {\n",
              "      resolve(null);\n",
              "    };\n",
              "  });\n",
              "\n",
              "  // Wait for the user to pick the files.\n",
              "  const files = yield {\n",
              "    promise: Promise.race([pickedPromise, cancelPromise]),\n",
              "    response: {\n",
              "      action: 'starting',\n",
              "    }\n",
              "  };\n",
              "\n",
              "  cancel.remove();\n",
              "\n",
              "  // Disable the input element since further picks are not allowed.\n",
              "  inputElement.disabled = true;\n",
              "\n",
              "  if (!files) {\n",
              "    return {\n",
              "      response: {\n",
              "        action: 'complete',\n",
              "      }\n",
              "    };\n",
              "  }\n",
              "\n",
              "  for (const file of files) {\n",
              "    const li = document.createElement('li');\n",
              "    li.append(span(file.name, {fontWeight: 'bold'}));\n",
              "    li.append(span(\n",
              "        `(${file.type || 'n/a'}) - ${file.size} bytes, ` +\n",
              "        `last modified: ${\n",
              "            file.lastModifiedDate ? file.lastModifiedDate.toLocaleDateString() :\n",
              "                                    'n/a'} - `));\n",
              "    const percent = span('0% done');\n",
              "    li.appendChild(percent);\n",
              "\n",
              "    outputElement.appendChild(li);\n",
              "\n",
              "    const fileDataPromise = new Promise((resolve) => {\n",
              "      const reader = new FileReader();\n",
              "      reader.onload = (e) => {\n",
              "        resolve(e.target.result);\n",
              "      };\n",
              "      reader.readAsArrayBuffer(file);\n",
              "    });\n",
              "    // Wait for the data to be ready.\n",
              "    let fileData = yield {\n",
              "      promise: fileDataPromise,\n",
              "      response: {\n",
              "        action: 'continue',\n",
              "      }\n",
              "    };\n",
              "\n",
              "    // Use a chunked sending to avoid message size limits. See b/62115660.\n",
              "    let position = 0;\n",
              "    do {\n",
              "      const length = Math.min(fileData.byteLength - position, MAX_PAYLOAD_SIZE);\n",
              "      const chunk = new Uint8Array(fileData, position, length);\n",
              "      position += length;\n",
              "\n",
              "      const base64 = btoa(String.fromCharCode.apply(null, chunk));\n",
              "      yield {\n",
              "        response: {\n",
              "          action: 'append',\n",
              "          file: file.name,\n",
              "          data: base64,\n",
              "        },\n",
              "      };\n",
              "\n",
              "      let percentDone = fileData.byteLength === 0 ?\n",
              "          100 :\n",
              "          Math.round((position / fileData.byteLength) * 100);\n",
              "      percent.textContent = `${percentDone}% done`;\n",
              "\n",
              "    } while (position < fileData.byteLength);\n",
              "  }\n",
              "\n",
              "  // All done.\n",
              "  yield {\n",
              "    response: {\n",
              "      action: 'complete',\n",
              "    }\n",
              "  };\n",
              "}\n",
              "\n",
              "scope.google = scope.google || {};\n",
              "scope.google.colab = scope.google.colab || {};\n",
              "scope.google.colab._files = {\n",
              "  _uploadFiles,\n",
              "  _uploadFilesContinue,\n",
              "};\n",
              "})(self);\n",
              "</script> "
            ]
          },
          "metadata": {}
        },
        {
          "output_type": "stream",
          "name": "stdout",
          "text": [
            "Saving crimesOnWomenData.csv to crimesOnWomenData.csv\n",
            "                State  Year  Rape Kidnap And Assault Dowry Deaths  \\\n",
            "0      ANDHRA PRADESH  2001   871                765          420   \n",
            "1   ARUNACHAL PRADESH  2001    33                 55            0   \n",
            "2               ASSAM  2001   817               1070           59   \n",
            "3               BIHAR  2001   888                518          859   \n",
            "4        CHHATTISGARH  2001   959                171           70   \n",
            "..                ...   ...   ...                ...          ...   \n",
            "67         D&N Haveli  2021  1250               4083          141   \n",
            "68        Daman & Diu  2021   315                904           16   \n",
            "69           Delhi UT  2021     2                  1            0   \n",
            "70        Lakshadweep  2021     0                  0            0   \n",
            "71         Puducherry  2021     2                  0            2   \n",
            "\n",
            "   Assault against women Assault against modesty of women Domestic violence  \\\n",
            "0                   3544                             2271              5791   \n",
            "1                     78                                3                11   \n",
            "2                    850                                4              1248   \n",
            "3                    562                               21              1558   \n",
            "4                   1763                              161               840   \n",
            "..                   ...                              ...               ...   \n",
            "67                  2068                              417              4731   \n",
            "68                  1851                               10               501   \n",
            "69                     5                                1                 9   \n",
            "70                     1                                1                 3   \n",
            "71                    31                                3                12   \n",
            "\n",
            "   Women Trafficking  \n",
            "0                  7  \n",
            "1                  0  \n",
            "2                  0  \n",
            "3                 83  \n",
            "4                  0  \n",
            "..               ...  \n",
            "67                 4  \n",
            "68                 1  \n",
            "69                 0  \n",
            "70                 0  \n",
            "71                 0  \n",
            "\n",
            "[72 rows x 9 columns]\n"
          ]
        }
      ]
    },
    {
      "cell_type": "markdown",
      "source": [
        "##2. Creating a dataframe from your CSV file"
      ],
      "metadata": {
        "id": "LzYcU7b0VBxP"
      }
    },
    {
      "cell_type": "code",
      "source": [
        "dt = pd.DataFrame(read_dt)\n",
        "print(dt)"
      ],
      "metadata": {
        "colab": {
          "base_uri": "https://localhost:8080/"
        },
        "id": "SwM9qagWVGRu",
        "outputId": "5fa26d36-74b7-4776-af7e-80d7e22bf124"
      },
      "execution_count": 23,
      "outputs": [
        {
          "output_type": "stream",
          "name": "stdout",
          "text": [
            "                State  Year  Rape Kidnap And Assault Dowry Deaths  \\\n",
            "0      ANDHRA PRADESH  2001   871                765          420   \n",
            "1   ARUNACHAL PRADESH  2001    33                 55            0   \n",
            "2               ASSAM  2001   817               1070           59   \n",
            "3               BIHAR  2001   888                518          859   \n",
            "4        CHHATTISGARH  2001   959                171           70   \n",
            "..                ...   ...   ...                ...          ...   \n",
            "67         D&N Haveli  2021  1250               4083          141   \n",
            "68        Daman & Diu  2021   315                904           16   \n",
            "69           Delhi UT  2021     2                  1            0   \n",
            "70        Lakshadweep  2021     0                  0            0   \n",
            "71         Puducherry  2021     2                  0            2   \n",
            "\n",
            "   Assault against women Assault against modesty of women Domestic violence  \\\n",
            "0                   3544                             2271              5791   \n",
            "1                     78                                3                11   \n",
            "2                    850                                4              1248   \n",
            "3                    562                               21              1558   \n",
            "4                   1763                              161               840   \n",
            "..                   ...                              ...               ...   \n",
            "67                  2068                              417              4731   \n",
            "68                  1851                               10               501   \n",
            "69                     5                                1                 9   \n",
            "70                     1                                1                 3   \n",
            "71                    31                                3                12   \n",
            "\n",
            "   Women Trafficking  \n",
            "0                  7  \n",
            "1                  0  \n",
            "2                  0  \n",
            "3                 83  \n",
            "4                  0  \n",
            "..               ...  \n",
            "67                 4  \n",
            "68                 1  \n",
            "69                 0  \n",
            "70                 0  \n",
            "71                 0  \n",
            "\n",
            "[72 rows x 9 columns]\n"
          ]
        }
      ]
    },
    {
      "cell_type": "markdown",
      "source": [
        "## **3. Creating a dataframe from a dictionary of lists**"
      ],
      "metadata": {
        "id": "FK4ZvJpZVosH"
      }
    },
    {
      "cell_type": "code",
      "source": [
        "dt = {'State': ['ANDHRA PRADESH', 'ARUNACHAL PRADESH', 'ASSAM', 'BIHAR', 'CHHATTISGARH'],\n",
        "      'Rape': [871, 33, 817, 888, 959], 'Kidnap And Assault': [765, 55, 1070, 518, 171],\n",
        "      'Dowry Deaths': [420, 0, 59, 859, 70], 'Assault against Women': [3544, 78, 850, 562, 1763]}\n",
        "\n",
        "crimes = pd.DataFrame(dt)\n",
        "print(crimes)"
      ],
      "metadata": {
        "colab": {
          "base_uri": "https://localhost:8080/"
        },
        "id": "4doS4bT4Vuwg",
        "outputId": "29fdeefe-fe15-44d9-db8e-7ce7b84ec663"
      },
      "execution_count": 29,
      "outputs": [
        {
          "output_type": "stream",
          "name": "stdout",
          "text": [
            "               State  Rape  Kidnap And Assault  Dowry Deaths  \\\n",
            "0     ANDHRA PRADESH   871                 765           420   \n",
            "1  ARUNACHAL PRADESH    33                  55             0   \n",
            "2              ASSAM   817                1070            59   \n",
            "3              BIHAR   888                 518           859   \n",
            "4       CHHATTISGARH   959                 171            70   \n",
            "\n",
            "   Assault against Women  \n",
            "0                   3544  \n",
            "1                     78  \n",
            "2                    850  \n",
            "3                    562  \n",
            "4                   1763  \n"
          ]
        }
      ]
    },
    {
      "cell_type": "markdown",
      "source": [
        "## **4. Creating a dataframe from a list of dictionaries:**"
      ],
      "metadata": {
        "id": "tslmtISrYMKN"
      }
    },
    {
      "cell_type": "code",
      "source": [
        "dt2 = [{'State': 'ANDHRA PRADESH',\n",
        "      'Rape': 871,\n",
        "      'Kidnap And Assault': 765,\n",
        "      'Dowry Deaths': 420,\n",
        "      'Assault against Women': 3544},\n",
        "\n",
        "      {'State': 'ARUNACHAL PRADESH',\n",
        "      'Rape': 33,\n",
        "      'Kidnap And Assault': 55,\n",
        "      'Dowry Deaths': 0,\n",
        "      'Assault against Women': 78},\n",
        "\n",
        "      {'State': 'ASSAM',\n",
        "      'Rape': 817,\n",
        "      'Kidnap And Assault': 1070,\n",
        "      'Dowry Deaths': 59,\n",
        "      'Assault against Women': 850},\n",
        "\n",
        "      {'State':'BIHAR',\n",
        "      'Rape': 888,\n",
        "      'Kidnap And Assault': 518,\n",
        "      'Dowry Deaths': 859,\n",
        "      'Assault against Women': 562},\n",
        "\n",
        "      {'State': 'CHHATTISGARH',\n",
        "      'Rape': 959,\n",
        "      'Kidnap And Assault': 171,\n",
        "      'Dowry Deaths':  70,\n",
        "      'Assault against Women': 1763}\n",
        "      ]\n",
        "\n",
        "\n",
        "crimes2 = pd.DataFrame(dt2)\n",
        "print(crimes2)"
      ],
      "metadata": {
        "colab": {
          "base_uri": "https://localhost:8080/"
        },
        "id": "CK30jL-7YLr-",
        "outputId": "82576f10-f2f5-4c84-aa6b-42e8ee0bb94f"
      },
      "execution_count": 44,
      "outputs": [
        {
          "output_type": "stream",
          "name": "stdout",
          "text": [
            "               State  Rape  Kidnap And Assault  Dowry Deaths  \\\n",
            "0     ANDHRA PRADESH   871                 765           420   \n",
            "1  ARUNACHAL PRADESH    33                  55             0   \n",
            "2              ASSAM   817                1070            59   \n",
            "3              BIHAR   888                 518           859   \n",
            "4       CHHATTISGARH   959                 171            70   \n",
            "\n",
            "   Assault against Women  \n",
            "0                   3544  \n",
            "1                     78  \n",
            "2                    850  \n",
            "3                    562  \n",
            "4                   1763  \n"
          ]
        }
      ]
    },
    {
      "cell_type": "markdown",
      "source": [
        "## **5. Selecting dataframe columns:**"
      ],
      "metadata": {
        "id": "CbTtbXcZdmp-"
      }
    },
    {
      "cell_type": "code",
      "source": [
        "# single column\n",
        "singleColumn = crimes['State']\n",
        "print(singleColumn)\n",
        "\n",
        "print(\"-------------------------------------------------\")\n",
        "\n",
        "# multiple columns\n",
        "multipleColumn = crimes[['State', 'Rape']]\n",
        "print(multipleColumn)"
      ],
      "metadata": {
        "colab": {
          "base_uri": "https://localhost:8080/"
        },
        "id": "BpoFbZfydr8N",
        "outputId": "a9d7c0a8-e4ab-4662-c3b8-ef8885b242cc"
      },
      "execution_count": 53,
      "outputs": [
        {
          "output_type": "stream",
          "name": "stdout",
          "text": [
            "0       ANDHRA PRADESH\n",
            "1    ARUNACHAL PRADESH\n",
            "2                ASSAM\n",
            "3                BIHAR\n",
            "4         CHHATTISGARH\n",
            "Name: State, dtype: object\n",
            "-------------------------------------------------\n",
            "               State  Rape\n",
            "0     ANDHRA PRADESH   871\n",
            "1  ARUNACHAL PRADESH    33\n",
            "2              ASSAM   817\n",
            "3              BIHAR   888\n",
            "4       CHHATTISGARH   959\n"
          ]
        }
      ]
    },
    {
      "cell_type": "markdown",
      "source": [
        "## **6. Selecting dataframe rows**"
      ],
      "metadata": {
        "id": "nE-TSINqdswl"
      }
    },
    {
      "cell_type": "code",
      "source": [
        "# single rows\n",
        "singleRow = crimes.loc[0]\n",
        "print(singleRow)\n",
        "\n",
        "print(\"-------------------------------------------------\")\n",
        "\n",
        "# multiple rows\n",
        "multipleRows = crimes.loc[0:1]\n",
        "print(multipleRows)"
      ],
      "metadata": {
        "colab": {
          "base_uri": "https://localhost:8080/"
        },
        "id": "xeVZlbIQdzNE",
        "outputId": "3cc45263-9961-4f7b-db8a-5d7bcee75637"
      },
      "execution_count": 59,
      "outputs": [
        {
          "output_type": "stream",
          "name": "stdout",
          "text": [
            "State                    ANDHRA PRADESH\n",
            "Rape                                871\n",
            "Kidnap And Assault                  765\n",
            "Dowry Deaths                        420\n",
            "Assault against Women              3544\n",
            "Name: 0, dtype: object\n",
            "-------------------------------------------------\n",
            "               State  Rape  Kidnap And Assault  Dowry Deaths  \\\n",
            "0     ANDHRA PRADESH   871                 765           420   \n",
            "1  ARUNACHAL PRADESH    33                  55             0   \n",
            "\n",
            "   Assault against Women  \n",
            "0                   3544  \n",
            "1                     78  \n"
          ]
        }
      ]
    }
  ]
}