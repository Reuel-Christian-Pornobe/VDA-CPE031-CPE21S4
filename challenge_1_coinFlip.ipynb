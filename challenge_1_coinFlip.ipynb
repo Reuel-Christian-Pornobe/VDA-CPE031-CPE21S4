{
  "nbformat": 4,
  "nbformat_minor": 0,
  "metadata": {
    "colab": {
      "provenance": [],
      "authorship_tag": "ABX9TyOUfCF6UlFedRIYQXucFqks",
      "include_colab_link": true
    },
    "kernelspec": {
      "name": "python3",
      "display_name": "Python 3"
    },
    "language_info": {
      "name": "python"
    }
  },
  "cells": [
    {
      "cell_type": "markdown",
      "metadata": {
        "id": "view-in-github",
        "colab_type": "text"
      },
      "source": [
        "<a href=\"https://colab.research.google.com/github/Reuel-Christian-Pornobe/VDA-CPE031-CPE21S4/blob/main/challenge_2.ipynb\" target=\"_parent\"><img src=\"https://colab.research.google.com/assets/colab-badge.svg\" alt=\"Open In Colab\"/></a>"
      ]
    },
    {
      "cell_type": "code",
      "execution_count": 27,
      "metadata": {
        "colab": {
          "base_uri": "https://localhost:8080/"
        },
        "id": "2e-JoFaIprTh",
        "outputId": "494984c6-888b-4767-eb08-ff9f266dbafe"
      },
      "outputs": [
        {
          "output_type": "stream",
          "name": "stdout",
          "text": [
            "How many times do you want to flip the coin?: 10\n",
            "[1, 1, 1, 0, 1, 0, 1, 0, 0, 0]\n",
            "['Heads', 'Heads', 'Heads', 'Tails', 'Heads', 'Tails', 'Heads', 'Tails', 'Tails', 'Tails']\n"
          ]
        }
      ],
      "source": [
        "import numpy as np\n",
        "\n",
        "coinList  = []\n",
        "coinListText = []\n",
        "\n",
        "def coin_flip(n):\n",
        "  for i in range(n):\n",
        "    coinList.append(np.random.randint(0,2))\n",
        "\n",
        "\n",
        "n = int(input(\"How many times do you want to flip the coin?: \"))\n",
        "\n",
        "coin_flip(n)\n",
        "\n",
        "for i in coinList:\n",
        "  if i == 0:\n",
        "    coinListText.append(\"Tails\")\n",
        "  else:\n",
        "    coinListText.append(\"Heads\")\n",
        "\n",
        "print(coinList)\n",
        "print(coinListText)"
      ]
    }
  ]
}
